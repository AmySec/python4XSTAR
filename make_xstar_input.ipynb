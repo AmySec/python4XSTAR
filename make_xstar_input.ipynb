{
 "cells": [
  {
   "cell_type": "code",
   "execution_count": 1,
   "id": "a65a0e2d",
   "metadata": {},
   "outputs": [],
   "source": [
    "from astropy.io import fits\n",
    "import numpy as np\n",
    "\n",
    "import matplotlib.pyplot as plt\n",
    "%matplotlib inline"
   ]
  },
  {
   "cell_type": "code",
   "execution_count": 30,
   "id": "ec6c20c5",
   "metadata": {},
   "outputs": [],
   "source": [
    "tlist=np.logspace(np.log10(5e3),np.log10(1e6),100)/1e4"
   ]
  },
  {
   "cell_type": "code",
   "execution_count": 33,
   "id": "5be449d9",
   "metadata": {},
   "outputs": [],
   "source": [
    "dlist=np.logspace(-15,-7,20)/1.67e-24"
   ]
  },
  {
   "cell_type": "code",
   "execution_count": 40,
   "id": "7fe88ab2",
   "metadata": {},
   "outputs": [],
   "source": [
    "dir_path='/Users/asecunda/Documents/thesis/radsims1/toyanfeiv2 (1)/work/'\n",
    "f=open(dir_path+'axstar_full','w')\n",
    "for i in range(len(tlist)):\n",
    "    for j in range(len(dlist)):\n",
    "        num=str(i*len(dlist)+j)\n",
    "        f.write('xstar cfrac=1 temperature='+str(tlist[i])+' pressure='\n",
    "                +str(0.5*1e4*dlist[j]*tlist[i])+' density='+str(dlist[j])+\n",
    "                ' spectrum=\\'bbody\\' spectrum_file=\\'sed5e5.csv\\' spectun=0 trad=0.004 rlrad38=1.  column=1.00E+21   rlogxi=1.  lcpres=0 habund=1 heabund=1  cabund=1. nabund=1. oabund=1 fabund=1 neabund=1 naabund=1 mgabund=1 alabund=1 siabund=1 pabund=1 sabund=1 clabund=1 arabund=1 kabund=1 caabund=1 scabund=1 tiabund=1 vabund=1 crabund=1 mnabund=1 feabund=1 coabund=1 niabund=1 cuabund=1 znabund=1 modelname=\\'simplelteopacity\\' niter=0  npass=1 critf=1.00E-12 nsteps=5 xeemin=0.001 emult=0.5 taumax=1.  ncn2=999 radexp=0 lprint=0 lwrite=1 \\n')\n",
    "\n",
    "        f.write('cp xo01_detal4.fits ares/opakout'+num+'.fits\\n\\n')\n",
    "        \n",
    "f.close()"
   ]
  },
  {
   "cell_type": "code",
   "execution_count": null,
   "id": "d6d53c67",
   "metadata": {},
   "outputs": [],
   "source": []
  }
 ],
 "metadata": {
  "kernelspec": {
   "display_name": "Python 3 (ipykernel)",
   "language": "python",
   "name": "python3"
  },
  "language_info": {
   "codemirror_mode": {
    "name": "ipython",
    "version": 3
   },
   "file_extension": ".py",
   "mimetype": "text/x-python",
   "name": "python",
   "nbconvert_exporter": "python",
   "pygments_lexer": "ipython3",
   "version": "3.9.6"
  }
 },
 "nbformat": 4,
 "nbformat_minor": 5
}
